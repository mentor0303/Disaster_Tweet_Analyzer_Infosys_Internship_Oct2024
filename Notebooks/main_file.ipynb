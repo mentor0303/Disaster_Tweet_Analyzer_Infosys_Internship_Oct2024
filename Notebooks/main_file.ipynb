{
 "cells": [
  {
   "cell_type": "markdown",
   "metadata": {},
   "source": [
    "# Disaster Tweet Analyzer with Extended Data Preprocessing and Feature Engineering\n",
    "This notebook will walk through data loading, extensive cleaning, feature engineering, and preparation for model training for the Disaster Tweet Analyzer project. The steps include:\n",
    "1. Importing Libraries\n",
    "2. Loading and Exploring the Dataset\n",
    "3. Data Cleaning and Text Preprocessing\n",
    "4. Handling Missing Values\n",
    "5. Handling Class Imbalance\n",
    "6. Feature Engineering\n",
    "7. Saving Cleaned Data and Preparing for Model Training\n"
   ]
  },
  {
   "cell_type": "code",
   "execution_count": 57,
   "metadata": {},
   "outputs": [
    {
     "name": "stderr",
     "output_type": "stream",
     "text": [
      "[nltk_data] Downloading package stopwords to\n",
      "[nltk_data]     C:\\Users\\KAUSHAL/nltk_data...\n",
      "[nltk_data]   Package stopwords is already up-to-date!\n",
      "[nltk_data] Downloading package wordnet to\n",
      "[nltk_data]     C:\\Users\\KAUSHAL/nltk_data...\n",
      "[nltk_data]   Package wordnet is already up-to-date!\n",
      "[nltk_data] Downloading package punkt to C:\\Users\\KAUSHAL/nltk_data...\n",
      "[nltk_data]   Package punkt is already up-to-date!\n"
     ]
    },
    {
     "data": {
      "text/plain": [
       "True"
      ]
     },
     "execution_count": 57,
     "metadata": {},
     "output_type": "execute_result"
    }
   ],
   "source": [
    "# Import Libraries\n",
    "import pandas as pd\n",
    "import numpy as np\n",
    "import re\n",
    "import nltk\n",
    "from nltk.corpus import stopwords\n",
    "from nltk.stem import WordNetLemmatizer\n",
    "import matplotlib.pyplot as plt\n",
    "import seaborn as sns\n",
    "from wordcloud import WordCloud\n",
    "from sklearn.utils import resample\n",
    "\n",
    "# Download necessary NLTK resources\n",
    "nltk.download('stopwords')\n",
    "nltk.download('wordnet')\n",
    "nltk.download('punkt')\n"
   ]
  },
  {
   "cell_type": "markdown",
   "metadata": {},
   "source": [
    "### Step 1: Import Libraries\n",
    "We import essential libraries for data manipulation, text processing, visualization, and handling class imbalance.\n"
   ]
  },
  {
   "cell_type": "code",
   "execution_count": 58,
   "metadata": {},
   "outputs": [
    {
     "data": {
      "text/html": [
       "<div>\n",
       "<style scoped>\n",
       "    .dataframe tbody tr th:only-of-type {\n",
       "        vertical-align: middle;\n",
       "    }\n",
       "\n",
       "    .dataframe tbody tr th {\n",
       "        vertical-align: top;\n",
       "    }\n",
       "\n",
       "    .dataframe thead th {\n",
       "        text-align: right;\n",
       "    }\n",
       "</style>\n",
       "<table border=\"1\" class=\"dataframe\">\n",
       "  <thead>\n",
       "    <tr style=\"text-align: right;\">\n",
       "      <th></th>\n",
       "      <th>id</th>\n",
       "      <th>keyword</th>\n",
       "      <th>location</th>\n",
       "      <th>text</th>\n",
       "      <th>target</th>\n",
       "    </tr>\n",
       "  </thead>\n",
       "  <tbody>\n",
       "    <tr>\n",
       "      <th>0</th>\n",
       "      <td>0</td>\n",
       "      <td>ablaze</td>\n",
       "      <td>NaN</td>\n",
       "      <td>Communal violence in Bhainsa, Telangana. \"Ston...</td>\n",
       "      <td>1</td>\n",
       "    </tr>\n",
       "    <tr>\n",
       "      <th>1</th>\n",
       "      <td>1</td>\n",
       "      <td>ablaze</td>\n",
       "      <td>NaN</td>\n",
       "      <td>Telangana: Section 144 has been imposed in Bha...</td>\n",
       "      <td>1</td>\n",
       "    </tr>\n",
       "    <tr>\n",
       "      <th>2</th>\n",
       "      <td>2</td>\n",
       "      <td>ablaze</td>\n",
       "      <td>New York City</td>\n",
       "      <td>Arsonist sets cars ablaze at dealership https:...</td>\n",
       "      <td>1</td>\n",
       "    </tr>\n",
       "    <tr>\n",
       "      <th>3</th>\n",
       "      <td>3</td>\n",
       "      <td>ablaze</td>\n",
       "      <td>Morgantown, WV</td>\n",
       "      <td>Arsonist sets cars ablaze at dealership https:...</td>\n",
       "      <td>1</td>\n",
       "    </tr>\n",
       "    <tr>\n",
       "      <th>4</th>\n",
       "      <td>4</td>\n",
       "      <td>ablaze</td>\n",
       "      <td>NaN</td>\n",
       "      <td>\"Lord Jesus, your love brings freedom and pard...</td>\n",
       "      <td>0</td>\n",
       "    </tr>\n",
       "  </tbody>\n",
       "</table>\n",
       "</div>"
      ],
      "text/plain": [
       "   id keyword        location  \\\n",
       "0   0  ablaze             NaN   \n",
       "1   1  ablaze             NaN   \n",
       "2   2  ablaze   New York City   \n",
       "3   3  ablaze  Morgantown, WV   \n",
       "4   4  ablaze             NaN   \n",
       "\n",
       "                                                text  target  \n",
       "0  Communal violence in Bhainsa, Telangana. \"Ston...       1  \n",
       "1  Telangana: Section 144 has been imposed in Bha...       1  \n",
       "2  Arsonist sets cars ablaze at dealership https:...       1  \n",
       "3  Arsonist sets cars ablaze at dealership https:...       1  \n",
       "4  \"Lord Jesus, your love brings freedom and pard...       0  "
      ]
     },
     "execution_count": 58,
     "metadata": {},
     "output_type": "execute_result"
    }
   ],
   "source": [
    "# Data Acquisition from CSV File\n",
    "data = pd.read_csv('tweets.csv')\n",
    "data.head()\n"
   ]
  },
  {
   "cell_type": "code",
   "execution_count": 59,
   "metadata": {},
   "outputs": [],
   "source": [
    "data = data.drop(columns=['id'])"
   ]
  },
  {
   "cell_type": "markdown",
   "metadata": {},
   "source": [
    "### Step 2: Load the Dataset\n",
    "We load the dataset and display the first few rows to get an initial look at the data structure.\n"
   ]
  },
  {
   "cell_type": "code",
   "execution_count": 60,
   "metadata": {},
   "outputs": [
    {
     "name": "stdout",
     "output_type": "stream",
     "text": [
      "Data Shape: (11370, 4)\n",
      "Missing Values:\n",
      " keyword        0\n",
      "location    3418\n",
      "text           0\n",
      "target         0\n",
      "dtype: int64\n"
     ]
    }
   ],
   "source": [
    "#Check Data Shape and Missing Values\n",
    "print(\"Data Shape:\", data.shape)\n",
    "print(\"Missing Values:\\n\", data.isnull().sum())\n"
   ]
  },
  {
   "cell_type": "markdown",
   "metadata": {},
   "source": [
    "### Step 3: Basic Data Overview\n",
    "Check the shape of the dataset and identify missing values in each column.\n"
   ]
  },
  {
   "cell_type": "code",
   "execution_count": 61,
   "metadata": {},
   "outputs": [
    {
     "name": "stdout",
     "output_type": "stream",
     "text": [
      "Target Class Distribution:\n",
      " target\n",
      "0    9256\n",
      "1    2114\n",
      "Name: count, dtype: int64\n"
     ]
    }
   ],
   "source": [
    "# Explore Target Class Distribution\n",
    "print(\"Target Class Distribution:\\n\", data['target'].value_counts())\n"
   ]
  },
  {
   "cell_type": "markdown",
   "metadata": {},
   "source": [
    "### Step 4: Explore Target Class Distribution\n",
    "Check the distribution of the target classes."
   ]
  },
  {
   "cell_type": "code",
   "execution_count": 62,
   "metadata": {},
   "outputs": [
    {
     "data": {
      "image/png": "[encoded data removed]",
      "text/plain": [
       "<Figure size 800x500 with 1 Axes>"
      ]
     },
     "metadata": {},
     "output_type": "display_data"
    }
   ],
   "source": [
    "# Visualize Target Class Distribution\n",
    "plt.figure(figsize=(8, 5))\n",
    "sns.countplot(x='target', data=data)\n",
    "plt.title('Distribution of Target Classes')\n",
    "plt.xlabel('Target (0: Not Disaster, 1: Disaster)')\n",
    "plt.ylabel('Count')\n",
    "plt.show()\n"
   ]
  },
  {
   "cell_type": "markdown",
   "metadata": {},
   "source": [
    "### Step 5: Text Cleaning\n",
    "Define a function to clean tweet text by removing URLs, mentions, and special characters, and apply it to the dataset."
   ]
  },
  {
   "cell_type": "code",
   "execution_count": 78,
   "metadata": {},
   "outputs": [],
   "source": [
    "# Data Cleaning - Clean Text\n",
    "def clean_text(text):\n",
    "    text = text.lower()\n",
    "    text = re.sub(r'https?://\\S+|www\\.\\S+', '', text)\n",
    "    text = re.sub(r'@[A-Za-z0-9]+', '', text)\n",
    "    text = re.sub(r'#', '', text)\n",
    "    text = re.sub(r'[^a-zA-Z\\s]', '', text)\n",
    "    text = re.sub(r\"\\b\\w{1,2}\\b\", \"\", text)\n",
    "    return text\n",
    "\n",
    "data['text'] = data['text'].apply(clean_text)"
   ]
  },
  {
   "cell_type": "markdown",
   "metadata": {},
   "source": [
    "### Step 6: Expand Contractions and Handle Emojis\n",
    "Expand contractions and convert emojis to text for further clarity.\n",
    "\n"
   ]
  },
  {
   "cell_type": "code",
   "execution_count": 79,
   "metadata": {},
   "outputs": [],
   "source": [
    "# Additional Data Cleaning Steps\n",
    "import contractions\n",
    "data['text'] = data['text'].apply(lambda x: contractions.fix(x))\n",
    "\n",
    "from emoji import demojize\n",
    "data['text'] = data['text'].apply(lambda x: re.sub(r'[^\\x00-\\x7F]+', '', x))\n",
    "data['text'] = data['text'].apply(lambda x: demojize(x))\n",
    "data['text'] = data['text'].apply(lambda x: re.sub(r'\\s+', ' ', x).strip())"
   ]
  },
  {
   "cell_type": "markdown",
   "metadata": {},
   "source": [
    "### Step 7: Remove Stopwords\n",
    "Define a function to remove common English stopwords from the text."
   ]
  },
  {
   "cell_type": "code",
   "execution_count": 80,
   "metadata": {},
   "outputs": [],
   "source": [
    "# Data Cleaning - Remove Stopwords\n",
    "def remove_stopwords(text):\n",
    "    stop_words = set(stopwords.words('english'))\n",
    "    words = text.split()\n",
    "    filtered_words = [word for word in words if word not in stop_words]\n",
    "    return ' '.join(filtered_words)\n",
    "\n",
    "data['text'] = data['text'].apply(remove_stopwords)"
   ]
  },
  {
   "cell_type": "markdown",
   "metadata": {},
   "source": [
    "### Step 8: Lemmatize Text\n",
    "Lemmatize each word to reduce it to its base form, aiding in model accuracy."
   ]
  },
  {
   "cell_type": "code",
   "execution_count": 81,
   "metadata": {},
   "outputs": [],
   "source": [
    "# Data Cleaning - Lemmatization\n",
    "lemmatizer = WordNetLemmatizer()\n",
    "\n",
    "def lemmatize_text(text):\n",
    "    words = text.split()\n",
    "    lemmatized_words = [lemmatizer.lemmatize(word) for word in words]\n",
    "    return ' '.join(lemmatized_words)\n",
    "\n",
    "data['text'] = data['text'].apply(lemmatize_text)"
   ]
  },
  {
   "cell_type": "markdown",
   "metadata": {},
   "source": [
    "### Step 9: Remove Duplicates and Calculate Text Length\n",
    "Remove duplicate tweets and create a column for tweet length."
   ]
  },
  {
   "cell_type": "code",
   "execution_count": 82,
   "metadata": {},
   "outputs": [
    {
     "name": "stdout",
     "output_type": "stream",
     "text": [
      "Duplicates removed: 3, Remaining rows: 10759\n"
     ]
    }
   ],
   "source": [
    "# Remove Duplicates and Analyze Text Length\n",
    "initial_rows = data.shape[0]\n",
    "data = data.drop_duplicates(subset='text', keep='first')\n",
    "final_rows = data.shape[0]\n",
    "print(f\"Duplicates removed: {initial_rows - final_rows}, Remaining rows: {final_rows}\")\n",
    "\n",
    "data['text_length'] = data['text'].apply(len)"
   ]
  },
  {
   "cell_type": "markdown",
   "metadata": {},
   "source": [
    "### Step 10: Visualize Distribution of Tweet Lengths\n",
    "Plot the distribution of tweet lengths to understand tweet characteristics."
   ]
  },
  {
   "cell_type": "code",
   "execution_count": 83,
   "metadata": {},
   "outputs": [
    {
     "data": {
      "image/png": "[encoded data removed]",
      "text/plain": [
       "<Figure size 1000x600 with 1 Axes>"
      ]
     },
     "metadata": {},
     "output_type": "display_data"
    }
   ],
   "source": [
    "# Visualize Distribution of Tweet Lengths\n",
    "plt.figure(figsize=(10, 6))\n",
    "sns.histplot(data['text_length'], bins=30, kde=True)\n",
    "plt.title('Distribution of Tweet Lengths')\n",
    "plt.xlabel('Tweet Length')\n",
    "plt.ylabel('Frequency')\n",
    "plt.show()"
   ]
  },
  {
   "cell_type": "markdown",
   "metadata": {},
   "source": [
    "### Step 11: Handle Missing Values in Location Column\n",
    "Fill missing values in the 'location' column with 'Unknown'."
   ]
  },
  {
   "cell_type": "code",
   "execution_count": 84,
   "metadata": {},
   "outputs": [
    {
     "name": "stderr",
     "output_type": "stream",
     "text": [
      "C:\\Users\\KAUSHAL\\AppData\\Local\\Temp\\ipykernel_5480\\2006056358.py:2: FutureWarning: A value is trying to be set on a copy of a DataFrame or Series through chained assignment using an inplace method.\n",
      "The behavior will change in pandas 3.0. This inplace method will never work because the intermediate object on which we are setting values always behaves as a copy.\n",
      "\n",
      "For example, when doing 'df[col].method(value, inplace=True)', try using 'df.method({col: value}, inplace=True)' or df[col] = df[col].method(value) instead, to perform the operation inplace on the original object.\n",
      "\n",
      "\n",
      "  data['location'].fillna('Unknown', inplace=True)\n"
     ]
    }
   ],
   "source": [
    "# Handling Missing Values in Location Column\n",
    "data['location'].fillna('Unknown', inplace=True)"
   ]
  },
  {
   "cell_type": "markdown",
   "metadata": {},
   "source": [
    "### Step 12: Handle Class Imbalance\n",
    "Use upsampling to balance the target classes for more accurate model training."
   ]
  },
  {
   "cell_type": "code",
   "execution_count": 85,
   "metadata": {},
   "outputs": [
    {
     "name": "stdout",
     "output_type": "stream",
     "text": [
      "Balanced Target Class Distribution:\n",
      " target\n",
      "1    8866\n",
      "0    8866\n",
      "Name: count, dtype: int64\n"
     ]
    }
   ],
   "source": [
    "# Handle Class Imbalance\n",
    "disaster_tweets = data[data['target'] == 1]\n",
    "non_disaster_tweets = data[data['target'] == 0]\n",
    "\n",
    "disaster_tweets_upsampled = resample(disaster_tweets,\n",
    "                                     replace=True,\n",
    "                                     n_samples=len(non_disaster_tweets),\n",
    "                                     random_state=42)\n",
    "data_balanced = pd.concat([disaster_tweets_upsampled, non_disaster_tweets])\n",
    "\n",
    "print(\"Balanced Target Class Distribution:\\n\", data_balanced['target'].value_counts())"
   ]
  },
  {
   "cell_type": "markdown",
   "metadata": {},
   "source": [
    "### Step 13: Basic Feature Engineering\n",
    "Calculate word count, character count, and average word length for each tweet."
   ]
  },
  {
   "cell_type": "code",
   "execution_count": 86,
   "metadata": {},
   "outputs": [],
   "source": [
    "# Feature Engineering - Word Count, Character Count, Average Word Length\n",
    "data_balanced['word_count'] = data_balanced['text'].apply(lambda x: len(x.split()))\n",
    "data_balanced['char_count'] = data_balanced['text'].apply(len)\n",
    "data_balanced['avg_word_length'] = data_balanced['char_count'] / data_balanced['word_count']"
   ]
  },
  {
   "cell_type": "markdown",
   "metadata": {},
   "source": [
    "### Step 14: Additional Feature Engineering\n",
    "Calculate punctuation count and uppercase word count to add further features for the model."
   ]
  },
  {
   "cell_type": "code",
   "execution_count": 87,
   "metadata": {},
   "outputs": [],
   "source": [
    "# Additional Feature Engineering - Punctuation and Uppercase Word Count\n",
    "def count_punctuation(text):\n",
    "    return len(re.findall(r'[^\\w\\s]', text))\n",
    "\n",
    "def count_uppercase_words(text):\n",
    "    words = text.split()\n",
    "    uppercase_words = [word for word in words if word.isupper()]\n",
    "    return len(uppercase_words)\n",
    "\n",
    "data_balanced['punctuation_count'] = data_balanced['text'].apply(count_punctuation)\n",
    "data_balanced['uppercase_word_count'] = data_balanced['text'].apply(count_uppercase_words)"
   ]
  },
  {
   "cell_type": "markdown",
   "metadata": {},
   "source": [
    "### Step 15: Vectorization\n",
    "Convert text data into numerical features using TF-IDF."
   ]
  },
  {
   "cell_type": "code",
   "execution_count": 88,
   "metadata": {},
   "outputs": [
    {
     "name": "stdout",
     "output_type": "stream",
     "text": [
      "Vectorization complete. Data is ready for model training.\n"
     ]
    }
   ],
   "source": [
    "# Vectorization\n",
    "from sklearn.feature_extraction.text import TfidfVectorizer\n",
    "\n",
    "# Add missing columns with default values\n",
    "if 'hashtag_count' not in data_balanced.columns:\n",
    "    data_balanced['hashtag_count'] = 0\n",
    "if 'url_count' not in data_balanced.columns:\n",
    "    data_balanced['url_count'] = 0\n",
    "\n",
    "# Ensure all required columns are present\n",
    "required_columns = ['text', 'word_count', 'char_count', 'avg_word_length', \n",
    "                    'punctuation_count', 'hashtag_count', 'uppercase_word_count', 'url_count', 'target']\n",
    "missing_columns = [col for col in required_columns if col not in data_balanced.columns]\n",
    "if missing_columns:\n",
    "    raise ValueError(f\"Missing columns in data_balanced: {missing_columns}\")\n",
    "\n",
    "# Check for missing values in the 'text' column\n",
    "if data_balanced['text'].isnull().any():\n",
    "    raise ValueError(\"Missing values found in 'text' column\")\n",
    "\n",
    "# Ensure the 'text' column is of type str\n",
    "data_balanced['text'] = data_balanced['text'].astype(str)\n",
    "\n",
    "# Initialize the TF-IDF Vectorizer\n",
    "vectorizer = TfidfVectorizer(max_features=5000)  # Limit to 5000 features for efficiency\n",
    "\n",
    "# Fit and transform the 'text' column to create the document-term matrix\n",
    "X_vectorized = vectorizer.fit_transform(data_balanced['text']).toarray()\n",
    "\n",
    "# Convert to DataFrame for easier handling\n",
    "X_vectorized_df = pd.DataFrame(X_vectorized, columns=vectorizer.get_feature_names_out())\n",
    "\n",
    "# Concatenate with other features if needed (like word_count, char_count, etc.)\n",
    "X = pd.concat([X_vectorized_df, data_balanced[['word_count', 'char_count', 'avg_word_length', \n",
    "                                                'punctuation_count', 'hashtag_count', \n",
    "                                                'uppercase_word_count', 'url_count']].reset_index(drop=True)], axis=1)\n",
    "\n",
    "# The target variable remains unchanged\n",
    "y = data_balanced['target']\n",
    "\n",
    "print(\"Vectorization complete. Data is ready for model training.\")"
   ]
  },
  {
   "cell_type": "markdown",
   "metadata": {},
   "source": [
    "### Step 16: Save Cleaned Data\n",
    "Save the processed data to a CSV file for future use in model training."
   ]
  },
  {
   "cell_type": "code",
   "execution_count": 89,
   "metadata": {},
   "outputs": [
    {
     "name": "stdout",
     "output_type": "stream",
     "text": [
      "Processed data saved as 'cleaned_balanced_disaster_tweets.csv'.\n"
     ]
    }
   ],
   "source": [
    "# Save Cleaned and Balanced Dataset\n",
    "data_balanced.to_csv('cleaned_balanced_disaster_tweets.csv', index=False)\n",
    "print(\"Processed data saved as 'cleaned_balanced_disaster_tweets.csv'.\")"
   ]
  },
  {
   "cell_type": "markdown",
   "metadata": {},
   "source": [
    "### Step 17: Data Preparation for Model Training\n",
    "Split data into features (X) and target (y) for model training."
   ]
  },
  {
   "cell_type": "code",
   "execution_count": 90,
   "metadata": {},
   "outputs": [
    {
     "name": "stdout",
     "output_type": "stream",
     "text": [
      "Data ready for model training.\n",
      "Training set size: (14185, 11)\n",
      "Testing set size: (3547, 11)\n"
     ]
    }
   ],
   "source": [
    "from sklearn.model_selection import train_test_split\n",
    "\n",
    "# Prepare for Model Training\n",
    "X = data_balanced.drop(['target'], axis=1)\n",
    "y = data_balanced['target']\n",
    "print(\"Data ready for model training.\")\n",
    "\n",
    "# Split the data into training and testing sets\n",
    "X_train, X_test, y_train, y_test = train_test_split(X, y, test_size=0.2, random_state=42)\n",
    "\n",
    "print(\"Training set size:\", X_train.shape)\n",
    "print(\"Testing set size:\", X_test.shape)"
   ]
  },
  {
   "cell_type": "markdown",
   "metadata": {},
   "source": [
    "### Step 18: Train and Evaluate the Model\n",
    "Train a logistic regression model and evaluate its performance."
   ]
  },
  {
   "cell_type": "code",
   "execution_count": 92,
   "metadata": {},
   "outputs": [
    {
     "name": "stdout",
     "output_type": "stream",
     "text": [
      "Accuracy: 0.9097829151395546\n",
      "Classification Report:\n",
      "               precision    recall  f1-score   support\n",
      "\n",
      "           0       0.95      0.87      0.91      1790\n",
      "           1       0.87      0.95      0.91      1757\n",
      "\n",
      "    accuracy                           0.91      3547\n",
      "   macro avg       0.91      0.91      0.91      3547\n",
      "weighted avg       0.91      0.91      0.91      3547\n",
      "\n"
     ]
    },
    {
     "name": "stderr",
     "output_type": "stream",
     "text": [
      "c:\\Users\\KAUSHAL\\AppData\\Local\\Programs\\Python\\Python312\\Lib\\site-packages\\sklearn\\linear_model\\_logistic.py:469: ConvergenceWarning: lbfgs failed to converge (status=1):\n",
      "STOP: TOTAL NO. of ITERATIONS REACHED LIMIT.\n",
      "\n",
      "Increase the number of iterations (max_iter) or scale the data as shown in:\n",
      "    https://scikit-learn.org/stable/modules/preprocessing.html\n",
      "Please also refer to the documentation for alternative solver options:\n",
      "    https://scikit-learn.org/stable/modules/linear_model.html#logistic-regression\n",
      "  n_iter_i = _check_optimize_result(\n"
     ]
    }
   ],
   "source": [
    "from sklearn.linear_model import LogisticRegression\n",
    "from sklearn.metrics import classification_report, accuracy_score\n",
    "from sklearn.preprocessing import OneHotEncoder\n",
    "from sklearn.compose import ColumnTransformer\n",
    "from sklearn.pipeline import Pipeline\n",
    "from sklearn.impute import SimpleImputer\n",
    "\n",
    "# Identify non-numeric columns\n",
    "non_numeric_cols = X_train.select_dtypes(include=['object']).columns\n",
    "\n",
    "# Create a column transformer to handle non-numeric columns and impute missing values\n",
    "preprocessor = ColumnTransformer(\n",
    "    transformers=[\n",
    "        ('num', Pipeline(steps=[\n",
    "            ('imputer', SimpleImputer(strategy='mean')),  # Impute missing values with mean\n",
    "            ('scaler', 'passthrough')  # Keep numeric columns as is\n",
    "        ]), X_train.select_dtypes(exclude=['object']).columns),\n",
    "        ('cat', Pipeline(steps=[\n",
    "            ('imputer', SimpleImputer(strategy='constant', fill_value='missing')),  # Impute missing values with 'missing'\n",
    "            ('onehot', OneHotEncoder(handle_unknown='ignore'))  # One-hot encode categorical columns\n",
    "        ]), non_numeric_cols)\n",
    "    ])\n",
    "\n",
    "# Create a pipeline with the preprocessor and the logistic regression model\n",
    "pipeline = Pipeline(steps=[\n",
    "    ('preprocessor', preprocessor),\n",
    "    ('classifier', LogisticRegression(max_iter=1000, random_state=42))\n",
    "])\n",
    "\n",
    "# Train the model\n",
    "pipeline.fit(X_train, y_train)\n",
    "\n",
    "# Make predictions\n",
    "y_pred = pipeline.predict(X_test)\n",
    "\n",
    "# Evaluate the model\n",
    "accuracy = accuracy_score(y_test, y_pred)\n",
    "report = classification_report(y_test, y_pred)\n",
    "\n",
    "print(f\"Accuracy: {accuracy}\")\n",
    "print(\"Classification Report:\\n\", report)"
   ]
  },
  {
   "cell_type": "markdown",
   "metadata": {},
   "source": [
    "### Summary of Work Done\n",
    "\n",
    "In this notebook, we have:\n",
    "\n",
    "1. **Loaded and Explored** the dataset to understand its structure and class distribution.\n",
    "2. **Cleaned the Text Data** by removing URLs, mentions, special characters, and stopwords, along with lemmatization.\n",
    "3. **Handled Missing Values** by filling gaps in specific columns.\n",
    "4. **Balanced the Dataset** using upsampling to manage class imbalance.\n",
    "5. **Engineered Additional Features** such as tweet length, punctuation count, and uppercase word count.\n",
    "6. **Saved the Cleaned and Balanced Data** to a new CSV file.\n",
    "7. **Prepared the Data for Model Training** by separating features (X) and the target (y).\n",
    "8. **Vectorized the Text Data** using TF-IDF to convert text into numerical features.\n",
    "9. **Handled Non-Numeric Columns and Missing Values** using a column transformer and imputer in a pipeline.\n",
    "10. **Trained a Logistic Regression Model** on the processed data.\n",
    "11. **Evaluated the Model** using accuracy score and classification report.\n",
    "\n",
    "The data is now ready for training machine learning models to classify disaster-related tweets accurately.\n"
   ]
  },
  {
   "cell_type": "code",
   "execution_count": null,
   "metadata": {},
   "outputs": [],
   "source": []
  },
  {
   "cell_type": "code",
   "execution_count": null,
   "metadata": {},
   "outputs": [],
   "source": []
  },
  {
   "cell_type": "code",
   "execution_count": null,
   "metadata": {},
   "outputs": [],
   "source": []
  },
  {
   "cell_type": "code",
   "execution_count": null,
   "metadata": {},
   "outputs": [],
   "source": []
  },
  {
   "cell_type": "code",
   "execution_count": null,
   "metadata": {},
   "outputs": [],
   "source": []
  },
  {
   "cell_type": "code",
   "execution_count": null,
   "metadata": {},
   "outputs": [],
   "source": []
  },
  {
   "cell_type": "code",
   "execution_count": null,
   "metadata": {},
   "outputs": [],
   "source": []
  },
  {
   "cell_type": "code",
   "execution_count": null,
   "metadata": {},
   "outputs": [],
   "source": []
  },
  {
   "cell_type": "code",
   "execution_count": null,
   "metadata": {},
   "outputs": [],
   "source": []
  },
  {
   "cell_type": "code",
   "execution_count": null,
   "metadata": {},
   "outputs": [],
   "source": []
  },
  {
   "cell_type": "code",
   "execution_count": null,
   "metadata": {},
   "outputs": [],
   "source": []
  },
  {
   "cell_type": "code",
   "execution_count": null,
   "metadata": {},
   "outputs": [],
   "source": []
  },
  {
   "cell_type": "code",
   "execution_count": null,
   "metadata": {},
   "outputs": [],
   "source": []
  },
  {
   "cell_type": "code",
   "execution_count": null,
   "metadata": {},
   "outputs": [],
   "source": []
  },
  {
   "cell_type": "code",
   "execution_count": null,
   "metadata": {},
   "outputs": [],
   "source": []
  },
  {
   "cell_type": "code",
   "execution_count": null,
   "metadata": {},
   "outputs": [],
   "source": []
  }
 ],
 "metadata": {
  "kernelspec": {
   "display_name": "Python 3",
   "language": "python",
   "name": "python3"
  },
  "language_info": {
   "codemirror_mode": {
    "name": "ipython",
    "version": 3
   },
   "file_extension": ".py",
   "mimetype": "text/x-python",
   "name": "python",
   "nbconvert_exporter": "python",
   "pygments_lexer": "ipython3",
   "version": "3.12.4"
  }
 },
 "nbformat": 4,
 "nbformat_minor": 2
}
