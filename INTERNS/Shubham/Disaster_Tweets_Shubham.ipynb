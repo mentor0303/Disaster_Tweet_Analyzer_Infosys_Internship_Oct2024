{
 "cells": [
  {
   "cell_type": "markdown",
   "id": "1a13e0ba-e049-48d3-9031-23e4b102ff67",
   "metadata": {},
   "source": [
    "# Exploring Disaster Tweet Dataset"
   ]
  },
  {
   "cell_type": "markdown",
   "id": "c426e9bd-1c90-4a26-aa33-e67dee9d8393",
   "metadata": {},
   "source": [
    "# Import Necessary Libraries"
   ]
  },
  {
   "cell_type": "code",
   "execution_count": 3,
   "id": "a64b7206-a0c1-40ea-8ac9-54886258929a",
   "metadata": {},
   "outputs": [],
   "source": [
    "import pandas as pd\n",
    "import numpy as np\n",
    "import re\n",
    "import matplotlib.pyplot as plt\n",
    "import seaborn as sns\n",
    "from wordcloud import WordCloud"
   ]
  },
  {
   "cell_type": "markdown",
   "id": "001b1c61-48b7-4c0b-9a65-f269d98e7779",
   "metadata": {},
   "source": [
    "# Load the Dataset"
   ]
  },
  {
   "cell_type": "code",
   "execution_count": 38,
   "id": "fbc961e1-d7a5-4dd4-b7fa-27e94878bf4a",
   "metadata": {},
   "outputs": [
    {
     "name": "stdout",
     "output_type": "stream",
     "text": [
      "   id keyword        location  \\\n",
      "0   0  ablaze             NaN   \n",
      "1   1  ablaze             NaN   \n",
      "2   2  ablaze   New York City   \n",
      "3   3  ablaze  Morgantown, WV   \n",
      "4   4  ablaze             NaN   \n",
      "\n",
      "                                                text  target  \\\n",
      "0  Communal violence in Bhainsa, Telangana. \"Ston...       1   \n",
      "1  Telangana: Section 144 has been imposed in Bha...       1   \n",
      "2  Arsonist sets cars ablaze at dealership https:...       1   \n",
      "3  Arsonist sets cars ablaze at dealership https:...       1   \n",
      "4  \"Lord Jesus, your love brings freedom and pard...       0   \n",
      "\n",
      "                                        cleaned_text  \n",
      "0  communal violence in bhainsa telangana stones ...  \n",
      "1  telangana section  has been imposed in bhainsa...  \n",
      "2  arsonist sets cars ablaze at dealership httpst...  \n",
      "3  arsonist sets cars ablaze at dealership httpst...  \n",
      "4  lord jesus your love brings freedom and pardon...  \n"
     ]
    }
   ],
   "source": [
    "data_file_path = r'C:\\Users\\Shubham.G.Gohil\\OneDrive\\Documents\\tweets.csv'\n",
    "df = pd.read_csv(file_path)\n",
    "df = pd.read_csv(data_file_path)\n",
    "print(tweets_df.head())"
   ]
  },
  {
   "cell_type": "markdown",
   "id": "0e33c88d-2651-43fd-916d-fc5da3b37044",
   "metadata": {},
   "source": [
    "# Understanding the Structure of the Dataset"
   ]
  },
  {
   "cell_type": "code",
   "execution_count": 19,
   "id": "ab5cf0f9-e24d-4e35-a990-c141924ebb9e",
   "metadata": {},
   "outputs": [
    {
     "name": "stdout",
     "output_type": "stream",
     "text": [
      "Dataset Info:\n",
      "<class 'pandas.core.frame.DataFrame'>\n",
      "RangeIndex: 11370 entries, 0 to 11369\n",
      "Data columns (total 5 columns):\n",
      " #   Column    Non-Null Count  Dtype \n",
      "---  ------    --------------  ----- \n",
      " 0   id        11370 non-null  int64 \n",
      " 1   keyword   11370 non-null  object\n",
      " 2   location  7952 non-null   object\n",
      " 3   text      11370 non-null  object\n",
      " 4   target    11370 non-null  int64 \n",
      "dtypes: int64(2), object(3)\n",
      "memory usage: 444.3+ KB\n",
      "None\n"
     ]
    }
   ],
   "source": [
    "print(\"Dataset Info:\")\n",
    "print(df.info())"
   ]
  },
  {
   "cell_type": "markdown",
   "id": "de1c63d1-f428-4c43-9e76-c7154cc57a84",
   "metadata": {},
   "source": [
    "# Handling Missing Values"
   ]
  },
  {
   "cell_type": "code",
   "execution_count": 22,
   "id": "15602506-b879-470e-9230-1d8d90e5679b",
   "metadata": {},
   "outputs": [
    {
     "name": "stdout",
     "output_type": "stream",
     "text": [
      "\n",
      "Missing values before cleanup:\n",
      "id             0\n",
      "keyword        0\n",
      "location    3418\n",
      "text           0\n",
      "target         0\n",
      "dtype: int64\n"
     ]
    }
   ],
   "source": [
    "print(\"\\nMissing values before cleanup:\")\n",
    "print(df.isnull().sum())"
   ]
  },
  {
   "cell_type": "code",
   "execution_count": 24,
   "id": "262b8a3e-bf3a-403f-b7dd-16af7406f5bf",
   "metadata": {},
   "outputs": [
    {
     "data": {
      "text/html": [
       "<div>\n",
       "<style scoped>\n",
       "    .dataframe tbody tr th:only-of-type {\n",
       "        vertical-align: middle;\n",
       "    }\n",
       "\n",
       "    .dataframe tbody tr th {\n",
       "        vertical-align: top;\n",
       "    }\n",
       "\n",
       "    .dataframe thead th {\n",
       "        text-align: right;\n",
       "    }\n",
       "</style>\n",
       "<table border=\"1\" class=\"dataframe\">\n",
       "  <thead>\n",
       "    <tr style=\"text-align: right;\">\n",
       "      <th></th>\n",
       "      <th>id</th>\n",
       "      <th>keyword</th>\n",
       "      <th>location</th>\n",
       "      <th>text</th>\n",
       "      <th>target</th>\n",
       "      <th>cleaned_text</th>\n",
       "    </tr>\n",
       "  </thead>\n",
       "  <tbody>\n",
       "    <tr>\n",
       "      <th>0</th>\n",
       "      <td>0</td>\n",
       "      <td>ablaze</td>\n",
       "      <td>NaN</td>\n",
       "      <td>Communal violence in Bhainsa, Telangana. \"Ston...</td>\n",
       "      <td>1</td>\n",
       "      <td>communal violence in bhainsa telangana stones ...</td>\n",
       "    </tr>\n",
       "    <tr>\n",
       "      <th>1</th>\n",
       "      <td>1</td>\n",
       "      <td>ablaze</td>\n",
       "      <td>NaN</td>\n",
       "      <td>Telangana: Section 144 has been imposed in Bha...</td>\n",
       "      <td>1</td>\n",
       "      <td>telangana section  has been imposed in bhainsa...</td>\n",
       "    </tr>\n",
       "    <tr>\n",
       "      <th>2</th>\n",
       "      <td>2</td>\n",
       "      <td>ablaze</td>\n",
       "      <td>New York City</td>\n",
       "      <td>Arsonist sets cars ablaze at dealership https:...</td>\n",
       "      <td>1</td>\n",
       "      <td>arsonist sets cars ablaze at dealership httpst...</td>\n",
       "    </tr>\n",
       "    <tr>\n",
       "      <th>3</th>\n",
       "      <td>3</td>\n",
       "      <td>ablaze</td>\n",
       "      <td>Morgantown, WV</td>\n",
       "      <td>Arsonist sets cars ablaze at dealership https:...</td>\n",
       "      <td>1</td>\n",
       "      <td>arsonist sets cars ablaze at dealership httpst...</td>\n",
       "    </tr>\n",
       "    <tr>\n",
       "      <th>4</th>\n",
       "      <td>4</td>\n",
       "      <td>ablaze</td>\n",
       "      <td>NaN</td>\n",
       "      <td>\"Lord Jesus, your love brings freedom and pard...</td>\n",
       "      <td>0</td>\n",
       "      <td>lord jesus your love brings freedom and pardon...</td>\n",
       "    </tr>\n",
       "  </tbody>\n",
       "</table>\n",
       "</div>"
      ],
      "text/plain": [
       "   id keyword        location  \\\n",
       "0   0  ablaze             NaN   \n",
       "1   1  ablaze             NaN   \n",
       "2   2  ablaze   New York City   \n",
       "3   3  ablaze  Morgantown, WV   \n",
       "4   4  ablaze             NaN   \n",
       "\n",
       "                                                text  target  \\\n",
       "0  Communal violence in Bhainsa, Telangana. \"Ston...       1   \n",
       "1  Telangana: Section 144 has been imposed in Bha...       1   \n",
       "2  Arsonist sets cars ablaze at dealership https:...       1   \n",
       "3  Arsonist sets cars ablaze at dealership https:...       1   \n",
       "4  \"Lord Jesus, your love brings freedom and pard...       0   \n",
       "\n",
       "                                        cleaned_text  \n",
       "0  communal violence in bhainsa telangana stones ...  \n",
       "1  telangana section  has been imposed in bhainsa...  \n",
       "2  arsonist sets cars ablaze at dealership httpst...  \n",
       "3  arsonist sets cars ablaze at dealership httpst...  \n",
       "4  lord jesus your love brings freedom and pardon...  "
      ]
     },
     "execution_count": 24,
     "metadata": {},
     "output_type": "execute_result"
    }
   ],
   "source": [
    "def clean_text(text):\n",
    "    text = re.sub(r'[^a-zA-Z\\s]', '', text)\n",
    "    return text.lower()\n",
    "\n",
    "tweets_df['cleaned_text'] = tweets_df['text'].apply(clean_text)\n",
    "tweets_df.head()"
   ]
  },
  {
   "cell_type": "markdown",
   "id": "357f26b5-7193-4bf5-9fc8-b7ee79183fbc",
   "metadata": {},
   "source": [
    "# Data Visualization"
   ]
  },
  {
   "cell_type": "markdown",
   "id": "bd59467c-901a-48b2-a982-bb2657d2d82c",
   "metadata": {},
   "source": [
    "#### 1. Visualize disaster vs. non-disaster tweet distribution insights"
   ]
  },
  {
   "cell_type": "code",
   "execution_count": 54,
   "id": "88ac54b6-006e-4bd3-95fd-e0bad6b5a864",
   "metadata": {},
   "outputs": [
    {
     "data": {
      "image/png": "[encoded data removed]",
      "text/plain": [
       "<Figure size 640x480 with 1 Axes>"
      ]
     },
     "metadata": {},
     "output_type": "display_data"
    }
   ],
   "source": [
    "sns.countplot(x='target', data=tweets_df)\n",
    "plt.title('Distribution of Disaster vs. Non-Disaster Tweets')\n",
    "plt.xlabel('Tweet Category')\n",
    "plt.ylabel('Count')\n",
    "plt.show()"
   ]
  },
  {
   "cell_type": "markdown",
   "id": "2e0be846-583f-47fb-a159-567a18f458f0",
   "metadata": {},
   "source": [
    "#### 2. The dataset is cleaned; now we will tokenize, remove stopwords, and perform lemmatization."
   ]
  },
  {
   "cell_type": "code",
   "execution_count": 57,
   "id": "a27388c8-5519-4046-a7be-41643805865f",
   "metadata": {},
   "outputs": [
    {
     "name": "stderr",
     "output_type": "stream",
     "text": [
      "C:\\Users\\Shubham.G.Gohil\\AppData\\Local\\Temp\\ipykernel_18824\\2626791863.py:3: FutureWarning: \n",
      "\n",
      "Passing `palette` without assigning `hue` is deprecated and will be removed in v0.14.0. Assign the `x` variable to `hue` and set `legend=False` for the same effect.\n",
      "\n",
      "  sns.barplot(x=disaster_counts.index, y=disaster_counts.values, palette='viridis')\n"
     ]
    },
    {
     "data": {
      "image/png": "[encoded data removed]",
      "text/plain": [
       "<Figure size 1000x500 with 1 Axes>"
      ]
     },
     "metadata": {},
     "output_type": "display_data"
    }
   ],
   "source": [
    "disaster_counts = tweets_df['target'].value_counts()\n",
    "plt.figure(figsize=(10, 5))\n",
    "sns.barplot(x=disaster_counts.index, y=disaster_counts.values, palette='viridis')\n",
    "plt.title('Count of Disaster vs. Non-Disaster Tweets')\n",
    "plt.xlabel('Category (0 = Non-Disaster, 1 = Disaster)')\n",
    "plt.ylabel('Number of Tweets')\n",
    "plt.show()"
   ]
  },
  {
   "cell_type": "markdown",
   "id": "11784360-cb5f-423c-9cd2-82a85aa35be1",
   "metadata": {},
   "source": [
    "# Text Preprocessing "
   ]
  },
  {
   "cell_type": "markdown",
   "id": "5876e326-2e57-44eb-ae41-23114650b544",
   "metadata": {},
   "source": [
    "### 1. Load Libraries and NLTK resources "
   ]
  },
  {
   "cell_type": "code",
   "execution_count": 24,
   "id": "8ff7cc92-3662-4df2-8fd0-30ee8cc07886",
   "metadata": {},
   "outputs": [
    {
     "name": "stderr",
     "output_type": "stream",
     "text": [
      "[nltk_data] Downloading package punkt to\n",
      "[nltk_data]     C:\\Users\\Shubham.G.Gohil\\AppData\\Roaming\\nltk_data...\n",
      "[nltk_data]   Package punkt is already up-to-date!\n",
      "[nltk_data] Downloading package stopwords to\n",
      "[nltk_data]     C:\\Users\\Shubham.G.Gohil\\AppData\\Roaming\\nltk_data...\n",
      "[nltk_data]   Package stopwords is already up-to-date!\n",
      "[nltk_data] Downloading package wordnet to\n",
      "[nltk_data]     C:\\Users\\Shubham.G.Gohil\\AppData\\Roaming\\nltk_data...\n",
      "[nltk_data]   Package wordnet is already up-to-date!\n"
     ]
    },
    {
     "data": {
      "text/plain": [
       "True"
      ]
     },
     "execution_count": 24,
     "metadata": {},
     "output_type": "execute_result"
    }
   ],
   "source": [
    "import nltk\n",
    "import string\n",
    "from nltk.tokenize import word_tokenize\n",
    "from nltk.corpus import stopwords\n",
    "from nltk.stem import PorterStemmer, WordNetLemmatizer\n",
    "from textblob import TextBlob\n",
    "from collections import Counter\n",
    "\n",
    "nltk.download('punkt')\n",
    "nltk.download('stopwords')\n",
    "nltk.download('wordnet')"
   ]
  },
  {
   "cell_type": "markdown",
   "id": "deb2e718-d63f-4a82-abe3-2a03ec85cfa5",
   "metadata": {},
   "source": [
    "### 2. Load and Display Few rows"
   ]
  },
  {
   "cell_type": "code",
   "execution_count": 10,
   "id": "f302b643-2841-4f47-851d-b12e60a9d272",
   "metadata": {},
   "outputs": [
    {
     "name": "stdout",
     "output_type": "stream",
     "text": [
      "Original DataFrame:\n",
      "   id keyword        location  \\\n",
      "0   0  ablaze             NaN   \n",
      "1   1  ablaze             NaN   \n",
      "2   2  ablaze   New York City   \n",
      "3   3  ablaze  Morgantown, WV   \n",
      "4   4  ablaze             NaN   \n",
      "\n",
      "                                                text  target  \n",
      "0  Communal violence in Bhainsa, Telangana. \"Ston...       1  \n",
      "1  Telangana: Section 144 has been imposed in Bha...       1  \n",
      "2  Arsonist sets cars ablaze at dealership https:...       1  \n",
      "3  Arsonist sets cars ablaze at dealership https:...       1  \n",
      "4  \"Lord Jesus, your love brings freedom and pard...       0  \n",
      "\n",
      "Columns in DataFrame: ['id', 'keyword', 'location', 'text', 'target']\n"
     ]
    }
   ],
   "source": [
    "file_path = r'C:\\Users\\Shubham.G.Gohil\\OneDrive\\Documents\\tweets.csv'\n",
    "df = pd.read_csv(file_path)\n",
    "\n",
    "# Display the first few rows of the original DataFrame\n",
    "print(\"Original DataFrame:\")\n",
    "print(df.head())\n",
    "\n",
    "# Display the column names to confirm\n",
    "print(\"\\nColumns in DataFrame:\", df.columns.tolist())"
   ]
  },
  {
   "cell_type": "markdown",
   "id": "e441ad5d-02e2-4454-9255-fbc20791999a",
   "metadata": {},
   "source": [
    "### 3. Clean DataFrame"
   ]
  },
  {
   "cell_type": "code",
   "execution_count": 13,
   "id": "dd1375f9-a535-4ff6-9102-dc15ae6699ae",
   "metadata": {},
   "outputs": [],
   "source": [
    "df_clean = df.dropna(subset=['text'])"
   ]
  },
  {
   "cell_type": "markdown",
   "id": "219f05b5-4a66-4258-ac06-b672e56c5a46",
   "metadata": {},
   "source": [
    "### 4. Applied Preprocessing Functions\n",
    "#####     (1) Lowercasing\n",
    "#####     (2) Removing URLs\n",
    "#####     (3) Removing User Mentions and Hashtags (Optional)\n",
    "#####     (4) Removing Punctuation\n",
    "#####     (5) Removing Numbers\n",
    "#####     (6) Tokenizing\n",
    "#####     (7) Removing stopwords\n",
    "#####     (8) Lemmatization\n",
    "#####     (9) Removing extra whitespace"
   ]
  },
  {
   "cell_type": "code",
   "execution_count": 19,
   "id": "4a78ecec-0920-43b4-a860-84c7d7322829",
   "metadata": {},
   "outputs": [
    {
     "name": "stdout",
     "output_type": "stream",
     "text": [
      "\n",
      "First few rows of processed tweets:\n",
      "                                                text  \\\n",
      "0  Communal violence in Bhainsa, Telangana. \"Ston...   \n",
      "1  Telangana: Section 144 has been imposed in Bha...   \n",
      "2  Arsonist sets cars ablaze at dealership https:...   \n",
      "3  Arsonist sets cars ablaze at dealership https:...   \n",
      "4  \"Lord Jesus, your love brings freedom and pard...   \n",
      "\n",
      "                                     processed_tweet  \n",
      "0  communal violence bhainsa telangana stone pelt...  \n",
      "1  telangana section imposed bhainsa january clas...  \n",
      "2                 arsonist set car ablaze dealership  \n",
      "3                 arsonist set car ablaze dealership  \n",
      "4  lord jesus love brings freedom pardon fill hol...  \n"
     ]
    }
   ],
   "source": [
    "def preprocess_tweet(tweet):\n",
    "    # Lowercasing\n",
    "    tweet = tweet.lower()\n",
    "    \n",
    "    # Removing URLs\n",
    "    tweet = re.sub(r\"http\\S+|www\\S+|https\\S+\", '', tweet, flags=re.MULTILINE)\n",
    "    \n",
    "    # Removing User Mentions and Hashtags\n",
    "    tweet = re.sub(r'\\@\\w+|\\#', '', tweet)\n",
    "    \n",
    "    # Removing Punctuation\n",
    "    tweet = tweet.translate(str.maketrans('', '', string.punctuation))\n",
    "    \n",
    "    # Removing Numbers\n",
    "    tweet = re.sub(r'\\d+', '', tweet)\n",
    "    \n",
    "    # Tokenizing\n",
    "    tokens = word_tokenize(tweet)\n",
    "    \n",
    "    # Removing stopwords\n",
    "    tokens = [word for word in tokens if word not in stopwords.words('english')]\n",
    "    \n",
    "    # Lemmatization\n",
    "    lemmatizer = WordNetLemmatizer()\n",
    "    tokens = [lemmatizer.lemmatize(word) for word in tokens]\n",
    "    \n",
    "    # Removing extra whitespace\n",
    "    tweet = ' '.join(tokens)\n",
    "    \n",
    "    return tweet\n",
    "\n",
    "if 'text' in df_clean.columns:  # Check if the column exists\n",
    "    df_clean['processed_tweet'] = df_clean['text'].apply(preprocess_tweet)\n",
    "\n",
    "    # Display the cleaned and preprocessed tweets\n",
    "    print(\"\\nFirst few rows of processed tweets:\")\n",
    "    print(df_clean[['text', 'processed_tweet']].head())\n",
    "else:\n",
    "    print(\"Column 'text' not found in the DataFrame.\")"
   ]
  },
  {
   "cell_type": "markdown",
   "id": "72a3d617-46aa-47e3-be98-a555f1ed0403",
   "metadata": {},
   "source": [
    "# Conclusion"
   ]
  },
  {
   "cell_type": "markdown",
   "id": "9d284d6d-5fe8-4c80-a913-f66b75d5f0f3",
   "metadata": {},
   "source": [
    "### Common Keywords in Tweets"
   ]
  },
  {
   "cell_type": "code",
   "execution_count": 48,
   "id": "f49224c7-48c8-4cc2-9055-b89068ce3ce9",
   "metadata": {},
   "outputs": [
    {
     "name": "stderr",
     "output_type": "stream",
     "text": [
      "[nltk_data] Downloading package stopwords to\n",
      "[nltk_data]     C:\\Users\\Shubham.G.Gohil\\AppData\\Roaming\\nltk_data...\n",
      "[nltk_data]   Package stopwords is already up-to-date!\n",
      "C:\\Users\\Shubham.G.Gohil\\AppData\\Local\\Temp\\ipykernel_10292\\658109109.py:19: FutureWarning: \n",
      "\n",
      "Passing `palette` without assigning `hue` is deprecated and will be removed in v0.14.0. Assign the `x` variable to `hue` and set `legend=False` for the same effect.\n",
      "\n",
      "  sns.barplot(x=list(words), y=list(counts), palette='magma')\n"
     ]
    },
    {
     "data": {
      "image/png": "[encoded data removed]",
      "text/plain": [
       "<Figure size 1500x700 with 1 Axes>"
      ]
     },
     "metadata": {},
     "output_type": "display_data"
    }
   ],
   "source": [
    "# Finding the most common keywords in disaster-related tweets\n",
    "from collections import Counter\n",
    "import matplotlib.pyplot as plt\n",
    "import seaborn as sns\n",
    "import nltk\n",
    "nltk.download('stopwords')\n",
    "from nltk.corpus import stopwords\n",
    "\n",
    "stop_words = set(stopwords.words('english'))\n",
    "disaster_tweets = df[df['target'] == 1]['text']\n",
    "all_words = ' '.join(disaster_tweets).split()\n",
    "filtered_words = [word for word in all_words if word not in stop_words]\n",
    "word_counts = Counter(filtered_words)\n",
    "common_words = word_counts.most_common(20)\n",
    "\n",
    "# Plotting the most common keywords\n",
    "words, counts = zip(*common_words)\n",
    "plt.figure(figsize=(15, 7))\n",
    "sns.barplot(x=list(words), y=list(counts), palette='magma')\n",
    "plt.title('Most Common Keywords in Disaster-Related Tweets')\n",
    "plt.xlabel('Keywords')\n",
    "plt.ylabel('Frequency')\n",
    "plt.xticks(rotation=45)\n",
    "plt.show()"
   ]
  },
  {
   "cell_type": "code",
   "execution_count": null,
   "id": "12706f82-0c84-4d70-b6c9-38f4694bf53d",
   "metadata": {},
   "outputs": [],
   "source": []
  }
 ],
 "metadata": {
  "kernelspec": {
   "display_name": "Python 3 (ipykernel)",
   "language": "python",
   "name": "python3"
  },
  "language_info": {
   "codemirror_mode": {
    "name": "ipython",
    "version": 3
   },
   "file_extension": ".py",
   "mimetype": "text/x-python",
   "name": "python",
   "nbconvert_exporter": "python",
   "pygments_lexer": "ipython3",
   "version": "3.12.4"
  }
 },
 "nbformat": 4,
 "nbformat_minor": 5
}
